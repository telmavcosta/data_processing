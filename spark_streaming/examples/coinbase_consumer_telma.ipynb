{
  "cells": [
    {
      "cell_type": "markdown",
      "metadata": {
        "id": "view-in-github",
        "colab_type": "text"
      },
      "source": [
        "<a href=\"https://colab.research.google.com/github/telmavcosta/data_processing/blob/main/spark_streaming/examples/coinbase_consumer_telma.ipynb\" target=\"_parent\"><img src=\"https://colab.research.google.com/assets/colab-badge.svg\" alt=\"Open In Colab\"/></a>"
      ]
    },
    {
      "cell_type": "markdown",
      "metadata": {
        "id": "2IZVtSO5sqa8"
      },
      "source": [
        "## Consumer Coinbase\n",
        "\n",
        "- To be executed in Google Colab\n",
        "- Connect to GCLOUD\n",
        "- Read data from GCS as streaming\n",
        "- Analyze data"
      ]
    },
    {
      "cell_type": "code",
      "execution_count": null,
      "metadata": {
        "id": "Z8fK3AR9Nier",
        "colab": {
          "base_uri": "https://localhost:8080/"
        },
        "outputId": "f021a099-7c9a-4ef8-ed9e-5c34661e0744"
      },
      "outputs": [
        {
          "output_type": "stream",
          "name": "stdout",
          "text": [
            "Updated property [core/project].\n"
          ]
        }
      ],
      "source": [
        "from google.colab import auth\n",
        "auth.authenticate_user()\n",
        "\n",
        "project_id = 'data-eng-dev-437916'\n",
        "!gcloud config set project {project_id}"
      ]
    },
    {
      "cell_type": "code",
      "source": [
        "!apt-get install openjdk-11-jdk -y\n",
        "!pip install pyspark gcsfs"
      ],
      "metadata": {
        "id": "6cT6z5lr2pXP",
        "colab": {
          "base_uri": "https://localhost:8080/"
        },
        "outputId": "d15d2b80-6b44-4d5f-a494-289b198fc242"
      },
      "execution_count": null,
      "outputs": [
        {
          "output_type": "stream",
          "name": "stdout",
          "text": [
            "Reading package lists... Done\n",
            "Building dependency tree... Done\n",
            "Reading state information... Done\n",
            "The following additional packages will be installed:\n",
            "  fonts-dejavu-core fonts-dejavu-extra libatk-wrapper-java\n",
            "  libatk-wrapper-java-jni libxt-dev libxtst6 libxxf86dga1 openjdk-11-jre\n",
            "  x11-utils\n",
            "Suggested packages:\n",
            "  libxt-doc openjdk-11-demo openjdk-11-source visualvm mesa-utils\n",
            "The following NEW packages will be installed:\n",
            "  fonts-dejavu-core fonts-dejavu-extra libatk-wrapper-java\n",
            "  libatk-wrapper-java-jni libxt-dev libxtst6 libxxf86dga1 openjdk-11-jdk\n",
            "  openjdk-11-jre x11-utils\n",
            "0 upgraded, 10 newly installed, 0 to remove and 35 not upgraded.\n",
            "Need to get 6,920 kB of archives.\n",
            "After this operation, 16.9 MB of additional disk space will be used.\n",
            "Get:1 http://archive.ubuntu.com/ubuntu jammy/main amd64 fonts-dejavu-core all 2.37-2build1 [1,041 kB]\n",
            "Get:2 http://archive.ubuntu.com/ubuntu jammy/main amd64 fonts-dejavu-extra all 2.37-2build1 [2,041 kB]\n",
            "Get:3 http://archive.ubuntu.com/ubuntu jammy/main amd64 libxtst6 amd64 2:1.2.3-1build4 [13.4 kB]\n",
            "Get:4 http://archive.ubuntu.com/ubuntu jammy/main amd64 libxxf86dga1 amd64 2:1.1.5-0ubuntu3 [12.6 kB]\n",
            "Get:5 http://archive.ubuntu.com/ubuntu jammy/main amd64 x11-utils amd64 7.7+5build2 [206 kB]\n",
            "Get:6 http://archive.ubuntu.com/ubuntu jammy/main amd64 libatk-wrapper-java all 0.38.0-5build1 [53.1 kB]\n",
            "Get:7 http://archive.ubuntu.com/ubuntu jammy/main amd64 libatk-wrapper-java-jni amd64 0.38.0-5build1 [49.0 kB]\n",
            "Get:8 http://archive.ubuntu.com/ubuntu jammy/main amd64 libxt-dev amd64 1:1.2.1-1 [396 kB]\n",
            "Get:9 http://archive.ubuntu.com/ubuntu jammy-updates/main amd64 openjdk-11-jre amd64 11.0.27+6~us1-0ubuntu1~22.04 [214 kB]\n",
            "Get:10 http://archive.ubuntu.com/ubuntu jammy-updates/main amd64 openjdk-11-jdk amd64 11.0.27+6~us1-0ubuntu1~22.04 [2,895 kB]\n",
            "Fetched 6,920 kB in 1s (5,806 kB/s)\n",
            "Selecting previously unselected package fonts-dejavu-core.\n",
            "(Reading database ... 126308 files and directories currently installed.)\n",
            "Preparing to unpack .../0-fonts-dejavu-core_2.37-2build1_all.deb ...\n",
            "Unpacking fonts-dejavu-core (2.37-2build1) ...\n",
            "Selecting previously unselected package fonts-dejavu-extra.\n",
            "Preparing to unpack .../1-fonts-dejavu-extra_2.37-2build1_all.deb ...\n",
            "Unpacking fonts-dejavu-extra (2.37-2build1) ...\n",
            "Selecting previously unselected package libxtst6:amd64.\n",
            "Preparing to unpack .../2-libxtst6_2%3a1.2.3-1build4_amd64.deb ...\n",
            "Unpacking libxtst6:amd64 (2:1.2.3-1build4) ...\n",
            "Selecting previously unselected package libxxf86dga1:amd64.\n",
            "Preparing to unpack .../3-libxxf86dga1_2%3a1.1.5-0ubuntu3_amd64.deb ...\n",
            "Unpacking libxxf86dga1:amd64 (2:1.1.5-0ubuntu3) ...\n",
            "Selecting previously unselected package x11-utils.\n",
            "Preparing to unpack .../4-x11-utils_7.7+5build2_amd64.deb ...\n",
            "Unpacking x11-utils (7.7+5build2) ...\n",
            "Selecting previously unselected package libatk-wrapper-java.\n",
            "Preparing to unpack .../5-libatk-wrapper-java_0.38.0-5build1_all.deb ...\n",
            "Unpacking libatk-wrapper-java (0.38.0-5build1) ...\n",
            "Selecting previously unselected package libatk-wrapper-java-jni:amd64.\n",
            "Preparing to unpack .../6-libatk-wrapper-java-jni_0.38.0-5build1_amd64.deb ...\n",
            "Unpacking libatk-wrapper-java-jni:amd64 (0.38.0-5build1) ...\n",
            "Selecting previously unselected package libxt-dev:amd64.\n",
            "Preparing to unpack .../7-libxt-dev_1%3a1.2.1-1_amd64.deb ...\n",
            "Unpacking libxt-dev:amd64 (1:1.2.1-1) ...\n",
            "Selecting previously unselected package openjdk-11-jre:amd64.\n",
            "Preparing to unpack .../8-openjdk-11-jre_11.0.27+6~us1-0ubuntu1~22.04_amd64.deb ...\n",
            "Unpacking openjdk-11-jre:amd64 (11.0.27+6~us1-0ubuntu1~22.04) ...\n",
            "Selecting previously unselected package openjdk-11-jdk:amd64.\n",
            "Preparing to unpack .../9-openjdk-11-jdk_11.0.27+6~us1-0ubuntu1~22.04_amd64.deb ...\n",
            "Unpacking openjdk-11-jdk:amd64 (11.0.27+6~us1-0ubuntu1~22.04) ...\n",
            "Setting up libxtst6:amd64 (2:1.2.3-1build4) ...\n",
            "Setting up libxxf86dga1:amd64 (2:1.1.5-0ubuntu3) ...\n",
            "Setting up openjdk-11-jre:amd64 (11.0.27+6~us1-0ubuntu1~22.04) ...\n",
            "Setting up libxt-dev:amd64 (1:1.2.1-1) ...\n",
            "Setting up fonts-dejavu-core (2.37-2build1) ...\n",
            "Setting up fonts-dejavu-extra (2.37-2build1) ...\n",
            "Setting up x11-utils (7.7+5build2) ...\n",
            "Setting up openjdk-11-jdk:amd64 (11.0.27+6~us1-0ubuntu1~22.04) ...\n",
            "update-alternatives: using /usr/lib/jvm/java-11-openjdk-amd64/bin/jconsole to provide /usr/bin/jconsole (jconsole) in auto mode\n",
            "Setting up libatk-wrapper-java (0.38.0-5build1) ...\n",
            "Setting up libatk-wrapper-java-jni:amd64 (0.38.0-5build1) ...\n",
            "Processing triggers for fontconfig (2.13.1-4.2ubuntu5) ...\n",
            "Processing triggers for hicolor-icon-theme (0.17-2) ...\n",
            "Processing triggers for libc-bin (2.35-0ubuntu3.8) ...\n",
            "/sbin/ldconfig.real: /usr/local/lib/libtbb.so.12 is not a symbolic link\n",
            "\n",
            "/sbin/ldconfig.real: /usr/local/lib/libhwloc.so.15 is not a symbolic link\n",
            "\n",
            "/sbin/ldconfig.real: /usr/local/lib/libtcm.so.1 is not a symbolic link\n",
            "\n",
            "/sbin/ldconfig.real: /usr/local/lib/libtbbbind_2_5.so.3 is not a symbolic link\n",
            "\n",
            "/sbin/ldconfig.real: /usr/local/lib/libur_loader.so.0 is not a symbolic link\n",
            "\n",
            "/sbin/ldconfig.real: /usr/local/lib/libtbbbind.so.3 is not a symbolic link\n",
            "\n",
            "/sbin/ldconfig.real: /usr/local/lib/libur_adapter_level_zero.so.0 is not a symbolic link\n",
            "\n",
            "/sbin/ldconfig.real: /usr/local/lib/libur_adapter_level_zero_v2.so.0 is not a symbolic link\n",
            "\n",
            "/sbin/ldconfig.real: /usr/local/lib/libtbbmalloc.so.2 is not a symbolic link\n",
            "\n",
            "/sbin/ldconfig.real: /usr/local/lib/libur_adapter_opencl.so.0 is not a symbolic link\n",
            "\n",
            "/sbin/ldconfig.real: /usr/local/lib/libtbbmalloc_proxy.so.2 is not a symbolic link\n",
            "\n",
            "/sbin/ldconfig.real: /usr/local/lib/libtcm_debug.so.1 is not a symbolic link\n",
            "\n",
            "/sbin/ldconfig.real: /usr/local/lib/libumf.so.0 is not a symbolic link\n",
            "\n",
            "/sbin/ldconfig.real: /usr/local/lib/libtbbbind_2_0.so.3 is not a symbolic link\n",
            "\n",
            "Processing triggers for man-db (2.10.2-1) ...\n",
            "Processing triggers for mailcap (3.70+nmu1ubuntu1) ...\n",
            "Requirement already satisfied: pyspark in /usr/local/lib/python3.11/dist-packages (3.5.1)\n",
            "Requirement already satisfied: gcsfs in /usr/local/lib/python3.11/dist-packages (2025.3.2)\n",
            "Requirement already satisfied: py4j==0.10.9.7 in /usr/local/lib/python3.11/dist-packages (from pyspark) (0.10.9.7)\n",
            "Requirement already satisfied: aiohttp!=4.0.0a0,!=4.0.0a1 in /usr/local/lib/python3.11/dist-packages (from gcsfs) (3.11.15)\n",
            "Requirement already satisfied: decorator>4.1.2 in /usr/local/lib/python3.11/dist-packages (from gcsfs) (4.4.2)\n",
            "Requirement already satisfied: fsspec==2025.3.2 in /usr/local/lib/python3.11/dist-packages (from gcsfs) (2025.3.2)\n",
            "Requirement already satisfied: google-auth>=1.2 in /usr/local/lib/python3.11/dist-packages (from gcsfs) (2.38.0)\n",
            "Requirement already satisfied: google-auth-oauthlib in /usr/local/lib/python3.11/dist-packages (from gcsfs) (1.2.2)\n",
            "Requirement already satisfied: google-cloud-storage in /usr/local/lib/python3.11/dist-packages (from gcsfs) (2.19.0)\n",
            "Requirement already satisfied: requests in /usr/local/lib/python3.11/dist-packages (from gcsfs) (2.32.3)\n",
            "Requirement already satisfied: aiohappyeyeballs>=2.3.0 in /usr/local/lib/python3.11/dist-packages (from aiohttp!=4.0.0a0,!=4.0.0a1->gcsfs) (2.6.1)\n",
            "Requirement already satisfied: aiosignal>=1.1.2 in /usr/local/lib/python3.11/dist-packages (from aiohttp!=4.0.0a0,!=4.0.0a1->gcsfs) (1.3.2)\n",
            "Requirement already satisfied: attrs>=17.3.0 in /usr/local/lib/python3.11/dist-packages (from aiohttp!=4.0.0a0,!=4.0.0a1->gcsfs) (25.3.0)\n",
            "Requirement already satisfied: frozenlist>=1.1.1 in /usr/local/lib/python3.11/dist-packages (from aiohttp!=4.0.0a0,!=4.0.0a1->gcsfs) (1.7.0)\n",
            "Requirement already satisfied: multidict<7.0,>=4.5 in /usr/local/lib/python3.11/dist-packages (from aiohttp!=4.0.0a0,!=4.0.0a1->gcsfs) (6.6.3)\n",
            "Requirement already satisfied: propcache>=0.2.0 in /usr/local/lib/python3.11/dist-packages (from aiohttp!=4.0.0a0,!=4.0.0a1->gcsfs) (0.3.2)\n",
            "Requirement already satisfied: yarl<2.0,>=1.17.0 in /usr/local/lib/python3.11/dist-packages (from aiohttp!=4.0.0a0,!=4.0.0a1->gcsfs) (1.20.1)\n",
            "Requirement already satisfied: cachetools<6.0,>=2.0.0 in /usr/local/lib/python3.11/dist-packages (from google-auth>=1.2->gcsfs) (5.5.2)\n",
            "Requirement already satisfied: pyasn1-modules>=0.2.1 in /usr/local/lib/python3.11/dist-packages (from google-auth>=1.2->gcsfs) (0.4.2)\n",
            "Requirement already satisfied: rsa<5,>=3.1.4 in /usr/local/lib/python3.11/dist-packages (from google-auth>=1.2->gcsfs) (4.9.1)\n",
            "Requirement already satisfied: requests-oauthlib>=0.7.0 in /usr/local/lib/python3.11/dist-packages (from google-auth-oauthlib->gcsfs) (2.0.0)\n",
            "Requirement already satisfied: google-api-core<3.0.0dev,>=2.15.0 in /usr/local/lib/python3.11/dist-packages (from google-cloud-storage->gcsfs) (2.25.1)\n",
            "Requirement already satisfied: google-cloud-core<3.0dev,>=2.3.0 in /usr/local/lib/python3.11/dist-packages (from google-cloud-storage->gcsfs) (2.4.3)\n",
            "Requirement already satisfied: google-resumable-media>=2.7.2 in /usr/local/lib/python3.11/dist-packages (from google-cloud-storage->gcsfs) (2.7.2)\n",
            "Requirement already satisfied: google-crc32c<2.0dev,>=1.0 in /usr/local/lib/python3.11/dist-packages (from google-cloud-storage->gcsfs) (1.7.1)\n",
            "Requirement already satisfied: charset-normalizer<4,>=2 in /usr/local/lib/python3.11/dist-packages (from requests->gcsfs) (3.4.2)\n",
            "Requirement already satisfied: idna<4,>=2.5 in /usr/local/lib/python3.11/dist-packages (from requests->gcsfs) (3.10)\n",
            "Requirement already satisfied: urllib3<3,>=1.21.1 in /usr/local/lib/python3.11/dist-packages (from requests->gcsfs) (2.4.0)\n",
            "Requirement already satisfied: certifi>=2017.4.17 in /usr/local/lib/python3.11/dist-packages (from requests->gcsfs) (2025.6.15)\n",
            "Requirement already satisfied: googleapis-common-protos<2.0.0,>=1.56.2 in /usr/local/lib/python3.11/dist-packages (from google-api-core<3.0.0dev,>=2.15.0->google-cloud-storage->gcsfs) (1.70.0)\n",
            "Requirement already satisfied: protobuf!=3.20.0,!=3.20.1,!=4.21.0,!=4.21.1,!=4.21.2,!=4.21.3,!=4.21.4,!=4.21.5,<7.0.0,>=3.19.5 in /usr/local/lib/python3.11/dist-packages (from google-api-core<3.0.0dev,>=2.15.0->google-cloud-storage->gcsfs) (5.29.5)\n",
            "Requirement already satisfied: proto-plus<2.0.0,>=1.22.3 in /usr/local/lib/python3.11/dist-packages (from google-api-core<3.0.0dev,>=2.15.0->google-cloud-storage->gcsfs) (1.26.1)\n",
            "Requirement already satisfied: pyasn1<0.7.0,>=0.6.1 in /usr/local/lib/python3.11/dist-packages (from pyasn1-modules>=0.2.1->google-auth>=1.2->gcsfs) (0.6.1)\n",
            "Requirement already satisfied: oauthlib>=3.0.0 in /usr/local/lib/python3.11/dist-packages (from requests-oauthlib>=0.7.0->google-auth-oauthlib->gcsfs) (3.3.1)\n"
          ]
        }
      ]
    },
    {
      "cell_type": "code",
      "source": [
        "from pyspark.sql import SparkSession\n",
        "\n",
        "GCS_JAR = \"https://repo1.maven.org/maven2/com/google/cloud/bigdataoss/gcs-connector/hadoop3-2.2.9/gcs-connector-hadoop3-2.2.9-shaded.jar\"\n",
        "\n",
        "spark = SparkSession.builder \\\n",
        "    .appName(\"GCSStreamingDemo\") \\\n",
        "    .config(\"spark.jars\", GCS_JAR) \\\n",
        "    .config(\"spark.hadoop.fs.gs.impl\", \"com.google.cloud.hadoop.fs.gcs.GoogleHadoopFileSystem\") \\\n",
        "    .config(\"spark.hadoop.fs.AbstractFileSystem.gs.impl\", \"com.google.cloud.hadoop.fs.gcs.GoogleHadoopFS\") \\\n",
        "    .getOrCreate()"
      ],
      "metadata": {
        "id": "a1ZMmma311bT"
      },
      "execution_count": null,
      "outputs": []
    },
    {
      "cell_type": "code",
      "source": [
        "from pyspark.sql import SparkSession\n",
        "from pyspark.sql.functions import col\n",
        "\n",
        "schema = \"type STRING, sequence LONG, product_id STRING, price STRING, time STRING\"\n",
        "\n",
        "df = spark.readStream.schema(schema).json(\"gs://edit-data-eng-dev/datalake/landing/btc/\")\n",
        "\n",
        "stream = df.select(\"time\", \"product_id\", col(\"price\").cast(\"double\")) \\\n",
        "  .writeStream \\\n",
        "  .outputMode(\"append\") \\\n",
        "  .queryName(\"btc_price_stream\") \\\n",
        "  .format(\"memory\") \\\n",
        "  .start()"
      ],
      "metadata": {
        "id": "sI5QvFufsYMl"
      },
      "execution_count": null,
      "outputs": []
    },
    {
      "cell_type": "code",
      "source": [
        "df = spark.sql(\"select * from btc_price_stream\")\n",
        "df.show()"
      ],
      "metadata": {
        "id": "14Qs0vD9soxp",
        "colab": {
          "base_uri": "https://localhost:8080/"
        },
        "outputId": "49fe12c9-74a0-4c04-f010-7c9dee13e573"
      },
      "execution_count": null,
      "outputs": [
        {
          "output_type": "stream",
          "name": "stdout",
          "text": [
            "+--------------------+----------+---------+\n",
            "|                time|product_id|    price|\n",
            "+--------------------+----------+---------+\n",
            "|2025-07-05T10:20:...|   BTC-USD|108163.06|\n",
            "|2025-07-05T10:21:...|   BTC-USD|108163.06|\n",
            "|2025-07-05T10:21:...|   BTC-USD|108163.06|\n",
            "|2025-07-05T10:20:...|   BTC-USD|108163.06|\n",
            "|2025-07-05T10:21:...|   BTC-USD|108163.06|\n",
            "|2025-07-05T10:20:...|   BTC-USD|108163.06|\n",
            "|2025-07-05T10:21:...|   BTC-USD|108163.06|\n",
            "|2025-07-05T10:21:...|   BTC-USD|108163.06|\n",
            "|2025-07-05T10:21:...|   BTC-USD|108163.06|\n",
            "|2025-07-05T10:21:...|   BTC-USD|108163.06|\n",
            "|2025-07-05T10:21:...|   BTC-USD|108163.06|\n",
            "|2025-07-05T10:21:...|   BTC-USD|108156.85|\n",
            "|2025-07-05T10:20:...|   BTC-USD|108154.98|\n",
            "|2025-07-05T10:21:...|   BTC-USD|108163.07|\n",
            "|2025-07-05T10:20:...|   BTC-USD|108163.07|\n",
            "|2025-07-05T10:20:...|   BTC-USD|108157.71|\n",
            "|2025-07-05T10:21:...|   BTC-USD|108156.86|\n",
            "|2025-07-05T10:21:...|   BTC-USD|108156.86|\n",
            "|2025-07-05T10:21:...|   BTC-USD|108156.86|\n",
            "|2025-07-05T10:20:...|   BTC-USD|108157.71|\n",
            "+--------------------+----------+---------+\n",
            "only showing top 20 rows\n",
            "\n"
          ]
        }
      ]
    },
    {
      "cell_type": "code",
      "source": [
        "# Analysis\n",
        "\n",
        "# Latest Bitcoin price\n",
        "# Calculate average BTC price per minute\n",
        "# Calculate standard deviation of price over time\n",
        "# How many price tickets per minute?\n",
        "# Find anomalies (price == nulls or with strange values)"
      ],
      "metadata": {
        "id": "9nFC7Sqbw_NF"
      },
      "execution_count": null,
      "outputs": []
    },
    {
      "cell_type": "code",
      "source": [
        "from pyspark.sql.functions import *\n"
      ],
      "metadata": {
        "id": "3T8FXkV6xhsg"
      },
      "execution_count": null,
      "outputs": []
    },
    {
      "cell_type": "code",
      "source": [
        "# count and average per product_id\n",
        "from pyspark.sql.functions import *\n",
        "\n",
        "df.groupBy(\"product_id\").agg(count(lit(\"1\")).alias(\"count\"), avg(\"price\").alias(\"avg_price\")).show()"
      ],
      "metadata": {
        "id": "fo8mqbXv6TPT",
        "outputId": "3617b5e8-de53-46e4-c369-c089a9ee95dd",
        "colab": {
          "base_uri": "https://localhost:8080/"
        }
      },
      "execution_count": null,
      "outputs": [
        {
          "output_type": "stream",
          "name": "stdout",
          "text": [
            "+----------+-----+-------------------+\n",
            "|product_id|count|          avg_price|\n",
            "+----------+-----+-------------------+\n",
            "|  DOGE-USD|   15|0.16447533333333333|\n",
            "|   ETH-USD|   58| 2521.2998275862074|\n",
            "|   BTC-USD|   78| 108158.83153846153|\n",
            "+----------+-----+-------------------+\n",
            "\n"
          ]
        }
      ]
    },
    {
      "cell_type": "code",
      "source": [
        "# Latest Bitcoin price\n",
        "df.show()\n",
        "df = spark.sql(\"SELECT * FROM btc_price_stream WHERE product_id = 'BTC-USD' ORDER BY time limit 1\")\n",
        "\n",
        "df_latest_btc = df.filter(col(\"product_id\") == \"BTC-USD\").orderBy(desc(\"time\")).limit(1)\n",
        "\n",
        "df_latest_btc.show()"
      ],
      "metadata": {
        "collapsed": true,
        "colab": {
          "base_uri": "https://localhost:8080/"
        },
        "id": "Yhl47yS8KP_7",
        "outputId": "b5480fc8-f561-48b6-dafe-5390ceb36afd"
      },
      "execution_count": null,
      "outputs": [
        {
          "output_type": "stream",
          "name": "stdout",
          "text": [
            "+--------------------+----------+---------+\n",
            "|                time|product_id|    price|\n",
            "+--------------------+----------+---------+\n",
            "|2025-07-05T10:20:...|   BTC-USD|108163.06|\n",
            "|2025-07-05T10:21:...|   BTC-USD|108163.06|\n",
            "|2025-07-05T10:21:...|   BTC-USD|108163.06|\n",
            "|2025-07-05T10:20:...|   BTC-USD|108163.06|\n",
            "|2025-07-05T10:21:...|   BTC-USD|108163.06|\n",
            "|2025-07-05T10:20:...|   BTC-USD|108163.06|\n",
            "|2025-07-05T10:21:...|   BTC-USD|108163.06|\n",
            "|2025-07-05T10:21:...|   BTC-USD|108163.06|\n",
            "|2025-07-05T10:21:...|   BTC-USD|108163.06|\n",
            "|2025-07-05T10:21:...|   BTC-USD|108163.06|\n",
            "|2025-07-05T10:21:...|   BTC-USD|108163.06|\n",
            "|2025-07-05T10:21:...|   BTC-USD|108156.85|\n",
            "|2025-07-05T10:20:...|   BTC-USD|108154.98|\n",
            "|2025-07-05T10:21:...|   BTC-USD|108163.07|\n",
            "|2025-07-05T10:20:...|   BTC-USD|108163.07|\n",
            "|2025-07-05T10:20:...|   BTC-USD|108157.71|\n",
            "|2025-07-05T10:21:...|   BTC-USD|108156.86|\n",
            "|2025-07-05T10:21:...|   BTC-USD|108156.86|\n",
            "|2025-07-05T10:21:...|   BTC-USD|108156.86|\n",
            "|2025-07-05T10:20:...|   BTC-USD|108157.71|\n",
            "+--------------------+----------+---------+\n",
            "only showing top 20 rows\n",
            "\n",
            "+--------------------+----------+---------+\n",
            "|                time|product_id|    price|\n",
            "+--------------------+----------+---------+\n",
            "|2025-07-05T10:22:...|   BTC-USD|108168.51|\n",
            "+--------------------+----------+---------+\n",
            "\n"
          ]
        }
      ]
    },
    {
      "cell_type": "code",
      "source": [
        "# Calculate average BTC price per minute\n",
        "#df.show()\n",
        "\n",
        "df.filter(\"product_id=='BTC-USD'\").groupBy(window(\"time\",\"1 minute\")).agg(avg(\"price\").alias(\"avg_price\")).orderBy(\"window\").show(10,False)\n",
        "\n",
        "#df_avg_btc_per_min = df_btc.groupBy(\n",
        "#    window(col(\"time\"), \"1 minute\").alias(\"minute\")\n",
        "#).agg(\n",
        "#    avg(\"price\").alias(\"avg_price\")\n",
        "#).orderBy(\"window\")\n",
        "\n",
        "#df_avg_btc_per_min.show(10,False)\n",
        "\n",
        "\n"
      ],
      "metadata": {
        "colab": {
          "base_uri": "https://localhost:8080/"
        },
        "id": "PdHSW3sJNzi6",
        "outputId": "ed88685b-af55-4f2e-dfca-8eefe2339019"
      },
      "execution_count": null,
      "outputs": [
        {
          "output_type": "stream",
          "name": "stdout",
          "text": [
            "+------------------------------------------+------------------+\n",
            "|window                                    |avg_price         |\n",
            "+------------------------------------------+------------------+\n",
            "|{2025-07-05 10:20:00, 2025-07-05 10:21:00}|108158.73717948717|\n",
            "|{2025-07-05 10:21:00, 2025-07-05 10:22:00}|108159.21160919541|\n",
            "|{2025-07-05 10:22:00, 2025-07-05 10:23:00}|108166.21611111108|\n",
            "|{2025-07-05 10:23:00, 2025-07-05 10:24:00}|108172.72325581392|\n",
            "+------------------------------------------+------------------+\n",
            "\n"
          ]
        }
      ]
    },
    {
      "cell_type": "code",
      "source": [
        "# Calculate standard deviation of price over time\n",
        "df.filter(\"product_id=='BTC-USD'\").groupBy(window(\"time\",\"1 minute\")).agg(stddev(\"price\").alias(\"stddev_price\")).orderBy(\"window\").show(10,False)\n"
      ],
      "metadata": {
        "colab": {
          "base_uri": "https://localhost:8080/"
        },
        "id": "7QMXyvhdSPqM",
        "outputId": "612f4d8c-9792-424b-ca4d-73d4049c44a8"
      },
      "execution_count": null,
      "outputs": [
        {
          "output_type": "stream",
          "name": "stdout",
          "text": [
            "+------------------------------------------+-----------------+\n",
            "|window                                    |stddev_price     |\n",
            "+------------------------------------------+-----------------+\n",
            "|{2025-07-05 10:20:00, 2025-07-05 10:21:00}|2.268814840997924|\n",
            "|{2025-07-05 10:21:00, 2025-07-05 10:22:00}|3.028489866043643|\n",
            "|{2025-07-05 10:22:00, 2025-07-05 10:23:00}|4.370803958317434|\n",
            "|{2025-07-05 10:23:00, 2025-07-05 10:24:00}|4.573369892672111|\n",
            "+------------------------------------------+-----------------+\n",
            "\n"
          ]
        }
      ]
    },
    {
      "cell_type": "code",
      "source": [
        "# How many price tickets per minute?\n",
        "df.groupBy(window(\"time\",\"1 minute\"), \"product_id\").agg(count(lit(\"1\")).alias(\"count\")).orderBy(\"window\", \"product_id\").show(10,False)\n"
      ],
      "metadata": {
        "colab": {
          "base_uri": "https://localhost:8080/"
        },
        "id": "hcMAqQ18TEJc",
        "outputId": "ce8d38d0-deae-49c1-f202-2e530618c4a0"
      },
      "execution_count": null,
      "outputs": [
        {
          "output_type": "stream",
          "name": "stdout",
          "text": [
            "+------------------------------------------+----------+-----+\n",
            "|window                                    |product_id|count|\n",
            "+------------------------------------------+----------+-----+\n",
            "|{2025-07-05 10:20:00, 2025-07-05 10:21:00}|BTC-USD   |39   |\n",
            "|{2025-07-05 10:20:00, 2025-07-05 10:21:00}|DOGE-USD  |15   |\n",
            "|{2025-07-05 10:20:00, 2025-07-05 10:21:00}|ETH-USD   |24   |\n",
            "|{2025-07-05 10:21:00, 2025-07-05 10:22:00}|BTC-USD   |87   |\n",
            "|{2025-07-05 10:21:00, 2025-07-05 10:22:00}|DOGE-USD  |10   |\n",
            "|{2025-07-05 10:21:00, 2025-07-05 10:22:00}|ETH-USD   |131  |\n",
            "|{2025-07-05 10:22:00, 2025-07-05 10:23:00}|BTC-USD   |207  |\n",
            "|{2025-07-05 10:22:00, 2025-07-05 10:23:00}|DOGE-USD  |19   |\n",
            "|{2025-07-05 10:22:00, 2025-07-05 10:23:00}|ETH-USD   |84   |\n",
            "|{2025-07-05 10:23:00, 2025-07-05 10:24:00}|BTC-USD   |70   |\n",
            "+------------------------------------------+----------+-----+\n",
            "only showing top 10 rows\n",
            "\n"
          ]
        }
      ]
    },
    {
      "cell_type": "code",
      "source": [
        "# Find anomalies (price == nulls or with strange values)\n",
        "\n",
        "from pyspark.sql.functions import *\n",
        "\n",
        "df.filter(\"product_id=='BTC_USD'\").filter((col(\"price\").isNUll()) | (col(\"price\") >=  lit(100000))).show()"
      ],
      "metadata": {
        "colab": {
          "base_uri": "https://localhost:8080/",
          "height": 176
        },
        "id": "lZ01MNVaT6wM",
        "outputId": "12bf88a1-6f4f-4eed-e634-b04f6acdab05"
      },
      "execution_count": null,
      "outputs": [
        {
          "output_type": "error",
          "ename": "TypeError",
          "evalue": "'Column' object is not callable",
          "traceback": [
            "\u001b[0;31m---------------------------------------------------------------------------\u001b[0m",
            "\u001b[0;31mTypeError\u001b[0m                                 Traceback (most recent call last)",
            "\u001b[0;32m/tmp/ipython-input-60-446212467.py\u001b[0m in \u001b[0;36m<cell line: 0>\u001b[0;34m()\u001b[0m\n\u001b[1;32m      3\u001b[0m \u001b[0;32mfrom\u001b[0m \u001b[0mpyspark\u001b[0m\u001b[0;34m.\u001b[0m\u001b[0msql\u001b[0m\u001b[0;34m.\u001b[0m\u001b[0mfunctions\u001b[0m \u001b[0;32mimport\u001b[0m \u001b[0;34m*\u001b[0m\u001b[0;34m\u001b[0m\u001b[0;34m\u001b[0m\u001b[0m\n\u001b[1;32m      4\u001b[0m \u001b[0;34m\u001b[0m\u001b[0m\n\u001b[0;32m----> 5\u001b[0;31m \u001b[0mdf\u001b[0m\u001b[0;34m.\u001b[0m\u001b[0mfilter\u001b[0m\u001b[0;34m(\u001b[0m\u001b[0;34m\"product_id=='BTC_USD'\"\u001b[0m\u001b[0;34m)\u001b[0m\u001b[0;34m.\u001b[0m\u001b[0mfilter\u001b[0m\u001b[0;34m(\u001b[0m\u001b[0;34m(\u001b[0m\u001b[0mcol\u001b[0m\u001b[0;34m(\u001b[0m\u001b[0;34m\"price\"\u001b[0m\u001b[0;34m)\u001b[0m\u001b[0;34m.\u001b[0m\u001b[0misNUll\u001b[0m\u001b[0;34m(\u001b[0m\u001b[0;34m)\u001b[0m\u001b[0;34m)\u001b[0m \u001b[0;34m|\u001b[0m \u001b[0;34m(\u001b[0m\u001b[0mcol\u001b[0m\u001b[0;34m(\u001b[0m\u001b[0;34m\"price\"\u001b[0m\u001b[0;34m)\u001b[0m \u001b[0;34m>=\u001b[0m \u001b[0;36m100000\u001b[0m\u001b[0;34m)\u001b[0m\u001b[0;34m)\u001b[0m\u001b[0;34m.\u001b[0m\u001b[0mshow\u001b[0m\u001b[0;34m(\u001b[0m\u001b[0;34m)\u001b[0m\u001b[0;34m\u001b[0m\u001b[0;34m\u001b[0m\u001b[0m\n\u001b[0m",
            "\u001b[0;31mTypeError\u001b[0m: 'Column' object is not callable"
          ]
        }
      ]
    },
    {
      "cell_type": "code",
      "source": [
        "stream.stop()"
      ],
      "metadata": {
        "id": "_RuSb0f9UvVV"
      },
      "execution_count": null,
      "outputs": []
    },
    {
      "cell_type": "code",
      "source": [
        "#Write Parquet\n",
        "\n",
        "from pyspark.sql import SparkSession\n",
        "from pyspark.sql.functions import col\n",
        "\n",
        "schema = \"type STRING, sequence LONG, product_id STRING, price STRING, time STRING\"\n",
        "\n",
        "df = spark.readStream.schema(schema).json(\"gs://edit-data-eng-dev/datalake/landing/btc/\")\n",
        "\n",
        "stream = df.select(\"time\", \"product_id\", col(\"price\").cast(\"double\")) \\\n",
        "  .writeStream \\\n",
        "  .outputMode(\"append\") \\\n",
        "  .format(\"parquer\") \\\n",
        "  .option(\"path\", \"gs://edit-data-eng-dev/datalake/bronze_telma/btc/\") \\\n",
        "  .option(\"checkpointlocation\",\"gs://edit-data-eng-dev/datalake/bronze_telma/checkpoint/\") \\\n",
        "  .start()"
      ],
      "metadata": {
        "id": "JlgTv5QOVCts"
      },
      "execution_count": null,
      "outputs": []
    }
  ],
  "metadata": {
    "colab": {
      "provenance": [],
      "include_colab_link": true
    },
    "kernelspec": {
      "display_name": "Python 3",
      "name": "python3"
    },
    "language_info": {
      "name": "python"
    }
  },
  "nbformat": 4,
  "nbformat_minor": 0
}