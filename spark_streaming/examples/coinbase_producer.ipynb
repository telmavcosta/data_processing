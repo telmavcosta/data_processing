{
  "cells": [
    {
      "cell_type": "markdown",
      "metadata": {
        "id": "view-in-github",
        "colab_type": "text"
      },
      "source": [
        "<a href=\"https://colab.research.google.com/github/lucprosa/dataeng-basic-course/blob/main/spark_streaming/examples/coinbase_producer.ipynb\" target=\"_parent\"><img src=\"https://colab.research.google.com/assets/colab-badge.svg\" alt=\"Open In Colab\"/></a>"
      ]
    },
    {
      "cell_type": "markdown",
      "metadata": {
        "id": "2IZVtSO5sqa8"
      },
      "source": [
        "## Producer Coinbase\n",
        "\n",
        "- To be executed in Google Colab\n",
        "- Connect to GCLOUD\n",
        "- Fetch data from Coinbase via WebSocket\n",
        "- Copy data to GC bucket"
      ]
    },
    {
      "cell_type": "code",
      "execution_count": null,
      "metadata": {
        "id": "Z8fK3AR9Nier"
      },
      "outputs": [],
      "source": [
        "from google.colab import auth\n",
        "auth.authenticate_user()\n",
        "\n",
        "project_id = 'data-eng-dev-437916'\n",
        "!gcloud config set project {project_id}"
      ]
    },
    {
      "cell_type": "code",
      "source": [
        "!pip install websocket-client"
      ],
      "metadata": {
        "id": "_xN3HiDzqVMb"
      },
      "execution_count": null,
      "outputs": []
    },
    {
      "cell_type": "code",
      "source": [
        "!rm -r /content/btc_stream\n",
        "!mkdir -p /content/btc_stream/landing"
      ],
      "metadata": {
        "id": "hMFKYUttu6eP"
      },
      "execution_count": null,
      "outputs": []
    },
    {
      "cell_type": "code",
      "source": [
        "import websocket\n",
        "import json\n",
        "import os\n",
        "import time\n",
        "from datetime import datetime\n",
        "\n",
        "OUTPUT_DIR = \"/content/btc_stream/landing\"\n",
        "os.makedirs(OUTPUT_DIR, exist_ok=True)\n",
        "\n",
        "def on_message(ws, message):\n",
        "    data = json.loads(message)\n",
        "    if data.get(\"type\") == \"ticker\":\n",
        "        timestamp = datetime.utcnow().strftime(\"%Y%m%d%H%M%S%f\")\n",
        "        filename = f\"{OUTPUT_DIR}/btc_{timestamp}.json\"\n",
        "        with open(filename, \"w\") as f:\n",
        "            json.dump(data, f)\n",
        "        time.sleep(5)\n",
        "        landing_path=f\"gs://edit-data-eng-dev/datalake/landing/btc/btc_{timestamp}.json\"\n",
        "        !gsutil cp {filename} {landing_path}\n",
        "\n",
        "def on_open(ws):\n",
        "    subscribe_message = {\n",
        "        \"type\": \"subscribe\",\n",
        "        \"channels\": [{\"name\": \"ticker\", \"product_ids\": [\"BTC-USD\", \"ETH-USD\", \"DOGE-USD\"]}]\n",
        "    }\n",
        "    ws.send(json.dumps(subscribe_message))\n",
        "\n",
        "ws = websocket.WebSocketApp(\n",
        "    \"wss://ws-feed.exchange.coinbase.com\",\n",
        "    on_open=on_open,\n",
        "    on_message=on_message\n",
        ")\n",
        "\n",
        "ws.run_forever()"
      ],
      "metadata": {
        "id": "54NgSI65sDGG"
      },
      "execution_count": null,
      "outputs": []
    }
  ],
  "metadata": {
    "colab": {
      "provenance": [],
      "include_colab_link": true
    },
    "kernelspec": {
      "display_name": "Python 3",
      "name": "python3"
    },
    "language_info": {
      "name": "python"
    }
  },
  "nbformat": 4,
  "nbformat_minor": 0
}